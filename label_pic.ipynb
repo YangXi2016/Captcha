{
 "cells": [
  {
   "cell_type": "code",
   "execution_count": null,
   "metadata": {},
   "outputs": [
    {
     "name": "stdout",
     "output_type": "stream",
     "text": [
      "当前进度：698 / 802\n"
     ]
    },
    {
     "data": {
      "image/png": "[encoded data removed]",
      "text/plain": [
       "<Figure size 432x288 with 1 Axes>"
      ]
     },
     "metadata": {},
     "output_type": "display_data"
    }
   ],
   "source": [
    "import os,time,cv2,re\n",
    "from PIL import Image\n",
    "import matplotlib.pyplot as plt\n",
    "from os.path import join\n",
    " \n",
    "\n",
    "DataSet_Path = \"WEBLMT_dataset\"\n",
    "# label_filename = \"result\"+str(int(time.time()))+\".txt\"\n",
    "label_filename = \"result.txt\"\n",
    "\n",
    "def rename_pic_file_random():\n",
    "    num = 0\n",
    "    suffix = '.png'\n",
    "    for _,_,files in os.walk(DataSet_Path):\n",
    "        for filename in files: \n",
    "            # temp_uuid = uuid.uuid1().hex\n",
    "            # new_filename = '_%s.png' % (temp_uuid)\n",
    "            num +=1\n",
    "            new_filename = str(num).zfill(4)+suffix\n",
    "            os.rename(join(DataSet_Path,filename),join(DataSet_Path,new_filename))\n",
    "\n",
    "\n",
    "\n",
    "def lable_pic_manul():\n",
    "    pic_num = 802\n",
    "    with open(join(DataSet_Path,label_filename),'r') as f:\n",
    "        lines = f.readlines()\n",
    "        data_errors = list(filter(lambda line:re.match(r'[A-Za-z0-9_]{4}\\n',line)==None,lines))\n",
    "        if len(data_errors) >0:\n",
    "            raise RuntimeError('数据错误:\\n'+\"\\n\".join(data_errors))\n",
    "        num = len(lines)\n",
    "    for _,_,files in os.walk(DataSet_Path):\n",
    "        i=0\n",
    "        for filename in files:\n",
    "            i+=1\n",
    "            if i<=num:\n",
    "                continue\n",
    "            if i>pic_num:\n",
    "                break\n",
    "            print(\"当前进度：%d / %d\"%(i,pic_num)) \n",
    "            img_path = join(DataSet_Path,filename)\n",
    "            img = cv2.imread(img_path)\n",
    "            plt.imshow(img)\n",
    "            plt.show()\n",
    "            captcha = input(\"请输入验证码:\\n\")\n",
    "            if captcha == '-1':\n",
    "                break\n",
    "            # lines.append(captcha+\"\\n\")\n",
    "            \n",
    "            with open(join(DataSet_Path,label_filename),'a+') as f:\n",
    "                f.write(captcha+\"\\n\")\n",
    "\n",
    "\n",
    "#rename_pic_file_random()\n",
    "lable_pic_manul()"
   ]
  },
  {
   "cell_type": "code",
   "execution_count": null,
   "metadata": {},
   "outputs": [],
   "source": []
  },
  {
   "cell_type": "code",
   "execution_count": null,
   "metadata": {},
   "outputs": [],
   "source": []
  }
 ],
 "metadata": {
  "kernelspec": {
   "display_name": "Python 3",
   "language": "python",
   "name": "python3"
  },
  "language_info": {
   "codemirror_mode": {
    "name": "ipython",
    "version": 3
   },
   "file_extension": ".py",
   "mimetype": "text/x-python",
   "name": "python",
   "nbconvert_exporter": "python",
   "pygments_lexer": "ipython3",
   "version": "3.6.3"
  }
 },
 "nbformat": 4,
 "nbformat_minor": 2
}
